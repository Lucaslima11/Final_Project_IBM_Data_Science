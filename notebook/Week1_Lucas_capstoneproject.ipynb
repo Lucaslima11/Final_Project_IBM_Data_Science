{
 "cells": [
  {
   "cell_type": "markdown",
   "id": "a49e3f9e-9467-4e64-bdc6-73c9e2f1df40",
   "metadata": {},
   "source": [
    "## First start: Initial project"
   ]
  },
  {
   "cell_type": "markdown",
   "id": "443dc0c5-3d9d-4192-8fd7-4b8e2b06a86c",
   "metadata": {},
   "source": [
    "This notebook will be used mainly to develop the capstone project of IBM's Professional Certificate on Data Science."
   ]
  },
  {
   "cell_type": "code",
   "execution_count": 1,
   "id": "6741b0af-5f23-48d2-a862-4e0556d0c74d",
   "metadata": {},
   "outputs": [],
   "source": [
    "import numpy as np\n",
    "import pandas as pd"
   ]
  },
  {
   "cell_type": "code",
   "execution_count": 2,
   "id": "60fed24f-adf7-4cce-819d-ef201f3fd0c7",
   "metadata": {},
   "outputs": [
    {
     "name": "stdout",
     "output_type": "stream",
     "text": [
      "Hello Capstone Project Course!\n"
     ]
    }
   ],
   "source": [
    "print(\"Hello Capstone Project Course!\")"
   ]
  },
  {
   "cell_type": "code",
   "execution_count": null,
   "id": "7c65361c-2729-4a6e-bdaf-df4e8b0cf514",
   "metadata": {},
   "outputs": [],
   "source": []
  }
 ],
 "metadata": {
  "kernelspec": {
   "display_name": "Python 3",
   "language": "python",
   "name": "python3"
  },
  "language_info": {
   "codemirror_mode": {
    "name": "ipython",
    "version": 3
   },
   "file_extension": ".py",
   "mimetype": "text/x-python",
   "name": "python",
   "nbconvert_exporter": "python",
   "pygments_lexer": "ipython3",
   "version": "3.8.8"
  }
 },
 "nbformat": 4,
 "nbformat_minor": 5
}
